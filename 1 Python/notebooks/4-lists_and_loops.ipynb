{
 "cells": [
  {
   "cell_type": "markdown",
   "metadata": {},
   "source": [
    "# 4: Lists and Loops\n",
    "---"
   ]
  },
  {
   "cell_type": "code",
   "execution_count": 1,
   "metadata": {
    "collapsed": true
   },
   "outputs": [],
   "source": [
    "# we can define a list using square brackets\n",
    "fruits = ['apple', 'banana', 'peach', 'pear']\n",
    "nums = [4, 56, 73, 12]\n",
    "mixed = [3, 'red', 45.012, [3, 5]] # lists can even contain other lists!"
   ]
  },
  {
   "cell_type": "code",
   "execution_count": 2,
   "metadata": {},
   "outputs": [
    {
     "name": "stdout",
     "output_type": "stream",
     "text": [
      "true!\n"
     ]
    }
   ],
   "source": [
    "# we can check if a list contains an element using 'in'\n",
    "fruits = ['apples', 'bananas', 'pears']\n",
    "if 'apples' in fruits:\n",
    "    print('true!')"
   ]
  },
  {
   "cell_type": "code",
   "execution_count": 3,
   "metadata": {},
   "outputs": [
    {
     "name": "stdout",
     "output_type": "stream",
     "text": [
      "apple\n",
      "banana\n",
      "peach\n",
      "pear\n"
     ]
    }
   ],
   "source": [
    "# we can get an element of a list by using square brackets with an 'index'\n",
    "fruits = ['apple', 'banana', 'peach', 'pear']\n",
    "print(fruits[0]) # indices start at 0\n",
    "print(fruits[1])\n",
    "print(fruits[2])\n",
    "print(fruits[3])"
   ]
  },
  {
   "cell_type": "code",
   "execution_count": 4,
   "metadata": {},
   "outputs": [
    {
     "name": "stdout",
     "output_type": "stream",
     "text": [
      "pear\n",
      "peach\n"
     ]
    }
   ],
   "source": [
    "# using negative numbers starts from the back of the list\n",
    "fruits = ['apple', 'banana', 'peach', 'pear']\n",
    "print(fruits[-1]) # equivalent to print(fruits[len(fruits)-1])\n",
    "print(fruits[-2])"
   ]
  },
  {
   "cell_type": "code",
   "execution_count": 5,
   "metadata": {},
   "outputs": [
    {
     "name": "stdout",
     "output_type": "stream",
     "text": [
      "['apple', 'banana', 'peach', 'pear']\n",
      "['pineapple', 'banana', 'peach', 'pear']\n"
     ]
    }
   ],
   "source": [
    "# we can also assign values using the square brackets\n",
    "fruits = ['apple', 'banana', 'peach', 'pear']\n",
    "print(fruits)\n",
    "fruits[0] = 'pineapple'\n",
    "print(fruits)"
   ]
  },
  {
   "cell_type": "code",
   "execution_count": 6,
   "metadata": {},
   "outputs": [
    {
     "name": "stdout",
     "output_type": "stream",
     "text": [
      "['apple', 'banana', 'peach', 'pear']\n",
      "['pineapple', 'banana', 'peach', 'pear']\n"
     ]
    }
   ],
   "source": [
    "# we can copy a list using copy(), editing the copy doesn't effect the original\n",
    "fruits = ['apple', 'banana', 'peach', 'pear']\n",
    "fruits2 = fruits.copy()\n",
    "fruits2[0] = 'pineapple'\n",
    "print(fruits)\n",
    "print(fruits2)"
   ]
  },
  {
   "cell_type": "code",
   "execution_count": 7,
   "metadata": {},
   "outputs": [
    {
     "name": "stdout",
     "output_type": "stream",
     "text": [
      "['apple', 'banana', 'peach', 'pear', 'pineapple']\n"
     ]
    }
   ],
   "source": [
    "# we can append an element to the end using 'append'\n",
    "fruits = ['apple', 'banana', 'peach', 'pear']\n",
    "fruits.append('pineapple')\n",
    "print(fruits)"
   ]
  },
  {
   "cell_type": "code",
   "execution_count": 8,
   "metadata": {},
   "outputs": [
    {
     "name": "stdout",
     "output_type": "stream",
     "text": [
      "['apples', 'cherries', 'bananas', 'pears']\n"
     ]
    }
   ],
   "source": [
    "# we can insert an element into an arbitrary place in the list\n",
    "fruits = ['apples', 'bananas', 'pears']\n",
    "fruits.insert(1, 'cherries') # insert an element at index 1\n",
    "print(fruits)"
   ]
  },
  {
   "cell_type": "code",
   "execution_count": 9,
   "metadata": {},
   "outputs": [
    {
     "name": "stdout",
     "output_type": "stream",
     "text": [
      "['apples', 'pears']\n"
     ]
    }
   ],
   "source": [
    "# we can remove an element, this removes only the first occurance\n",
    "fruits = ['apples', 'pears', 'pears']\n",
    "fruits.remove('pears')\n",
    "print(fruits)"
   ]
  },
  {
   "cell_type": "code",
   "execution_count": 10,
   "metadata": {},
   "outputs": [
    {
     "name": "stdout",
     "output_type": "stream",
     "text": [
      "bananas\n",
      "['apples', 'pears']\n"
     ]
    }
   ],
   "source": [
    "# we can also remove an element at a specific index\n",
    "fruits = ['apples', 'bananas', 'pears']\n",
    "print(fruits.pop(1)) # this returns the element\n",
    "print(fruits)\n",
    "\n",
    "# the following also works\n",
    "# del fruits[1]"
   ]
  },
  {
   "cell_type": "code",
   "execution_count": 11,
   "metadata": {},
   "outputs": [
    {
     "name": "stdout",
     "output_type": "stream",
     "text": [
      "['apples', 'bananas', 'pears', 'cherries', 'pineapple', 'greem']\n"
     ]
    }
   ],
   "source": [
    "# 'extend' adds all the elements from one list to another\n",
    "fruits1 = ['apples', 'bananas', 'pears']\n",
    "fruits2 = ['cherries', 'pineapple', 'greem']\n",
    "fruits1.extend(fruits2)\n",
    "print(fruits1)"
   ]
  },
  {
   "cell_type": "code",
   "execution_count": 12,
   "metadata": {},
   "outputs": [
    {
     "name": "stdout",
     "output_type": "stream",
     "text": [
      "['apples', 'bananas', 'pears', ['cherries', 'pineapple', 'greem']]\n"
     ]
    }
   ],
   "source": [
    "# append and extend behave differently!\n",
    "fruits1 = ['apples', 'bananas', 'pears']\n",
    "fruits2 = ['cherries', 'pineapple', 'greem']\n",
    "fruits1.append(fruits2)\n",
    "print(fruits1)"
   ]
  },
  {
   "cell_type": "code",
   "execution_count": 13,
   "metadata": {},
   "outputs": [
    {
     "name": "stdout",
     "output_type": "stream",
     "text": [
      "1\n"
     ]
    }
   ],
   "source": [
    "# this gets us the index of the given element\n",
    "fruits = ['apples', 'bananas', 'pears']\n",
    "print(fruits.index('bananas'))"
   ]
  },
  {
   "cell_type": "code",
   "execution_count": 14,
   "metadata": {},
   "outputs": [
    {
     "name": "stdout",
     "output_type": "stream",
     "text": [
      "banana\n",
      "['banana', 'peach']\n",
      "['banana', 'pear']\n",
      "['apple', 'peach', 'blueberry']\n",
      "['blueberry', 'pear', 'peach']\n"
     ]
    }
   ],
   "source": [
    "# 'slicing' gives us subsets of the list\n",
    "fruits = ['apple', 'banana', 'peach', 'pear', 'blueberry', 'rasberry']\n",
    "\n",
    "# one index gets us an element\n",
    "print(fruits[1])\n",
    "\n",
    "# two indices represent the lower bound and upper bound\n",
    "print(fruits[1:3]) \n",
    "\n",
    "# three indices represent the lower bound, upper bound and increment\n",
    "print(fruits[1:5:2]) # every other element between elements at index 1 and 5\n",
    "print(fruits[::2]) # we can leave out indices, this gives us every other element in the whole list\n",
    "print(fruits[4:1:-1]) # this gets a subset and reverses it\n"
   ]
  },
  {
   "cell_type": "code",
   "execution_count": 15,
   "metadata": {},
   "outputs": [
    {
     "name": "stdout",
     "output_type": "stream",
     "text": [
      "['rasberry', 'blueberry', 'pear', 'peach', 'banana', 'apple']\n",
      "['apple', 'banana', 'peach', 'pear', 'blueberry', 'rasberry']\n"
     ]
    }
   ],
   "source": [
    "# we can reverse a list using reverse()\n",
    "fruits.reverse() # this reverses it in place\n",
    "print(fruits)\n",
    "\n",
    "# there's also 'reversed', which returns an 'iterable'\n",
    "# we can convert it to a list using list()\n",
    "fruits = list(reversed(fruits))\n",
    "print(fruits)"
   ]
  },
  {
   "cell_type": "code",
   "execution_count": 16,
   "metadata": {
    "scrolled": true
   },
   "outputs": [
    {
     "name": "stdout",
     "output_type": "stream",
     "text": [
      "['apple', 'banana', 'blueberry', 'peach', 'pear', 'rasberry']\n",
      "['apple', 'banana', 'blueberry', 'peach', 'pear', 'rasberry']\n"
     ]
    }
   ],
   "source": [
    "# we can also sort a list\n",
    "fruits2 = fruits.copy() #we can use copy if we don't want to change the original\n",
    "fruits2.sort()\n",
    "print(fruits2)\n",
    "\n",
    "fruits = list(sorted(fruits))\n",
    "print(fruits)"
   ]
  },
  {
   "cell_type": "code",
   "execution_count": 17,
   "metadata": {},
   "outputs": [
    {
     "name": "stdout",
     "output_type": "stream",
     "text": [
      "4\n"
     ]
    }
   ],
   "source": [
    "# we can get the length of a list using len()\n",
    "fruits = ['apple', 'banana', 'peach', 'pear']\n",
    "print(len(fruits))"
   ]
  },
  {
   "cell_type": "code",
   "execution_count": 18,
   "metadata": {
    "scrolled": true
   },
   "outputs": [
    {
     "name": "stdout",
     "output_type": "stream",
     "text": [
      "0\n",
      "1\n",
      "2\n",
      "3\n",
      "4\n",
      "5\n",
      "6\n",
      "7\n",
      "8\n",
      "9\n"
     ]
    }
   ],
   "source": [
    "# a 'while loop' repeatedly executes its 'body' until the given condition is false\n",
    "# here, the print(i) and i += 1 are part of the loops' 'body'\n",
    "i = 0\n",
    "while i < 10:\n",
    "    print(i)\n",
    "    i += 1"
   ]
  },
  {
   "cell_type": "code",
   "execution_count": 19,
   "metadata": {
    "scrolled": true
   },
   "outputs": [
    {
     "name": "stdout",
     "output_type": "stream",
     "text": [
      "apple\n",
      "banana\n",
      "peach\n",
      "pear\n"
     ]
    }
   ],
   "source": [
    "# we can use len and while to iterate over a list of arbitary size\n",
    "fruits = ['apple', 'banana', 'peach', 'pear']\n",
    "i = 0\n",
    "while i < len(fruits):\n",
    "    print(fruits[i])\n",
    "    i += 1"
   ]
  },
  {
   "cell_type": "code",
   "execution_count": 20,
   "metadata": {},
   "outputs": [
    {
     "name": "stdout",
     "output_type": "stream",
     "text": [
      "[0, 1, 2, 3, 4, 5, 6, 7, 8, 9]\n"
     ]
    }
   ],
   "source": [
    "# the range function returns an 'iterable'\n",
    "# by default, it starts at 0, and goes up to -but not including- the given number\n",
    "itr = range(10)\n",
    "print(list(itr)) # convert the iterable to a list"
   ]
  },
  {
   "cell_type": "code",
   "execution_count": 21,
   "metadata": {
    "scrolled": true
   },
   "outputs": [
    {
     "name": "stdout",
     "output_type": "stream",
     "text": [
      "0\n",
      "1\n",
      "2\n",
      "3\n",
      "4\n",
      "5\n",
      "6\n",
      "7\n",
      "8\n",
      "9\n"
     ]
    }
   ],
   "source": [
    "for i in range(10):\n",
    "    print(i)"
   ]
  },
  {
   "cell_type": "code",
   "execution_count": 22,
   "metadata": {},
   "outputs": [
    {
     "name": "stdout",
     "output_type": "stream",
     "text": [
      "apples\n",
      "bananas\n",
      "pears\n",
      "cherries\n",
      "pineapple\n"
     ]
    }
   ],
   "source": [
    "# we can use for with range and len to iterate over the indices of a list\n",
    "fruits = ['apples', 'bananas', 'pears', 'cherries', 'pineapple']\n",
    "for i in range(len(fruits)):\n",
    "    print(fruits[i])"
   ]
  },
  {
   "cell_type": "code",
   "execution_count": 23,
   "metadata": {},
   "outputs": [
    {
     "name": "stdout",
     "output_type": "stream",
     "text": [
      "apples\n",
      "bananas\n",
      "pears\n",
      "cherries\n",
      "pineapple\n"
     ]
    }
   ],
   "source": [
    "# we can also iterate directly over the elements, rather than the indices\n",
    "fruits = ['apples', 'bananas', 'pears', 'cherries', 'pineapple']\n",
    "for fruit in fruits:\n",
    "    print(fruit)\n"
   ]
  },
  {
   "cell_type": "code",
   "execution_count": 24,
   "metadata": {},
   "outputs": [
    {
     "name": "stdout",
     "output_type": "stream",
     "text": [
      "0\n",
      "1\n",
      "2\n",
      "3\n",
      "4\n",
      "5\n",
      "6\n",
      "7\n",
      "8\n",
      "9\n"
     ]
    }
   ],
   "source": [
    "# there are 3 ways of using range\n",
    "# with one argument, the range goes from 0 up-to-but-not-including the given number\n",
    "for i in range(10):\n",
    "    print(i)"
   ]
  },
  {
   "cell_type": "code",
   "execution_count": 25,
   "metadata": {},
   "outputs": [
    {
     "name": "stdout",
     "output_type": "stream",
     "text": [
      "4\n",
      "5\n",
      "6\n",
      "7\n",
      "8\n",
      "9\n"
     ]
    }
   ],
   "source": [
    "# with two numbers the range goes from the first number, up-to-but-not-including the second number\n",
    "for i in range(4,10):\n",
    "    print(i)\n",
    "\n",
    "\n",
    "#i = 4\n",
    "#while i < 10:\n",
    "#    print(i)\n",
    "#    i = i + 1"
   ]
  },
  {
   "cell_type": "code",
   "execution_count": 26,
   "metadata": {},
   "outputs": [
    {
     "name": "stdout",
     "output_type": "stream",
     "text": [
      "4\n",
      "7\n"
     ]
    }
   ],
   "source": [
    "# if three numbers are given, the third number is the increment\n",
    "for i in range(4,10,3):\n",
    "    print(i)"
   ]
  },
  {
   "cell_type": "code",
   "execution_count": 27,
   "metadata": {
    "scrolled": true
   },
   "outputs": [
    {
     "name": "stdout",
     "output_type": "stream",
     "text": [
      "20\n",
      "19\n",
      "18\n",
      "17\n",
      "16\n",
      "15\n",
      "14\n",
      "13\n",
      "12\n",
      "11\n",
      "10\n",
      "9\n",
      "8\n",
      "7\n",
      "6\n",
      "5\n"
     ]
    }
   ],
   "source": [
    "# we can even go backwards\n",
    "for i in range(20,4,-1):\n",
    "    print(i)"
   ]
  },
  {
   "cell_type": "code",
   "execution_count": 28,
   "metadata": {},
   "outputs": [
    {
     "name": "stdout",
     "output_type": "stream",
     "text": [
      "0 apples\n",
      "1 bananas\n",
      "2 pears\n",
      "3 cherries\n",
      "4 pineapple\n"
     ]
    }
   ],
   "source": [
    "# if we want both the indices and values, we can use enumerate simultaneously\n",
    "fruits = ['apples', 'bananas', 'pears', 'cherries', 'pineapple']\n",
    "for i,fruit in enumerate(fruits):\n",
    "    print(str(i)+' '+str(fruit))"
   ]
  },
  {
   "cell_type": "code",
   "execution_count": 29,
   "metadata": {},
   "outputs": [
    {
     "name": "stdout",
     "output_type": "stream",
     "text": [
      "apple\n",
      "peach\n",
      "pear\n"
     ]
    }
   ],
   "source": [
    "# 'continue' allows us to skip rest of the current iteration\n",
    "# 'break' allows us to leave the loop entirely\n",
    "fruits = ['apple', 'banana', 'peach', 'pear', 'pineapple', 'cherry']\n",
    "for fruit in fruits:\n",
    "    if fruit == 'banana':\n",
    "        continue # skip over 'banana'\n",
    "    elif fruit == 'pineapple':\n",
    "        break # leave the loop on 'pineapple', note 'cherry' isn't printed either\n",
    "    print(fruit)\n",
    "    "
   ]
  }
 ],
 "metadata": {
  "kernelspec": {
   "display_name": "Python 3",
   "language": "python",
   "name": "python3"
  },
  "language_info": {
   "codemirror_mode": {
    "name": "ipython",
    "version": 3
   },
   "file_extension": ".py",
   "mimetype": "text/x-python",
   "name": "python",
   "nbconvert_exporter": "python",
   "pygments_lexer": "ipython3",
   "version": "3.6.5"
  }
 },
 "nbformat": 4,
 "nbformat_minor": 2
}

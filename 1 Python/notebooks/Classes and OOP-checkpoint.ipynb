{
 "cells": [
  {
   "cell_type": "markdown",
   "metadata": {
    "slideshow": {
     "slide_type": "slide"
    }
   },
   "source": [
    "Intro to Classes and Object-Oriented Programming\n",
    "==="
   ]
  },
  {
   "cell_type": "markdown",
   "metadata": {
    "slideshow": {
     "slide_type": "subslide"
    }
   },
   "source": [
    "Classes are unlike primitive data types, data structures, and functions. Instead, think of a class as something that packages various data types and functions into a single unit. Objects are the actual instances of a class. Classes allow you to define the data and behavior that characterize anything you want to model in your program. "
   ]
  },
  {
   "cell_type": "markdown",
   "metadata": {
    "slideshow": {
     "slide_type": "fragment"
    }
   },
   "source": [
    "If you are familiar with object-oriented programming in another language, you'll understand the core concepts with OOP in Python and just need to learn some Python class syntax. If you are new to programming in general, there will be a lot of new ideas here."
   ]
  },
  {
   "cell_type": "markdown",
   "metadata": {
    "slideshow": {
     "slide_type": "skip"
    }
   },
   "source": [
    "<a name=\"top\"></a>Contents\n",
    "===\n",
    "- [Object-Oriented Terminology](#oop_terminology)\n",
    "- [What are classes?](#what)\n",
    "    - [General terminology](#general_terminology)\n",
    "- [Refining the Person class](#refining_person)\n",
    "    - [Accepting parameters for the \\_\\_init\\_\\_() method](#init_parameters)\n",
    "- [Inheritance](#inheritance)\n",
    "    - [The Banker and Robber classes](#subclasses)"
   ]
  },
  {
   "cell_type": "markdown",
   "metadata": {
    "slideshow": {
     "slide_type": "skip"
    }
   },
   "source": [
    "[top](#top)"
   ]
  },
  {
   "cell_type": "markdown",
   "metadata": {
    "slideshow": {
     "slide_type": "slide"
    }
   },
   "source": [
    "<a name='oop_terminology'></a>Object-Oriented terminology\n",
    "==="
   ]
  },
  {
   "cell_type": "markdown",
   "metadata": {
    "slideshow": {
     "slide_type": "subslide"
    }
   },
   "source": [
    "Classes are part of a programming paradigm called **object-oriented programming**. Object-oriented programming, or OOP for short, focuses on building reusable blocks of code called classes. When you want to use a class in one of your programs, you make an **object** from that class, which is where the phrase \"object-oriented\" comes from. "
   ]
  },
  {
   "cell_type": "markdown",
   "metadata": {
    "slideshow": {
     "slide_type": "subslide"
    }
   },
   "source": [
    "<a name='general_terminology'></a>General terminology\n",
    "---"
   ]
  },
  {
   "cell_type": "markdown",
   "metadata": {
    "slideshow": {
     "slide_type": "fragment"
    }
   },
   "source": [
    "A **class** is a body of code that defines the **information** and **behaviors** required to model something you need for your program. There are endless examples for classes."
   ]
  },
  {
   "cell_type": "markdown",
   "metadata": {
    "slideshow": {
     "slide_type": "fragment"
    }
   },
   "source": [
    "A **property** or **attribute** is a piece of information. In code, an attribute is just a variable that is part of a class."
   ]
  },
  {
   "cell_type": "markdown",
   "metadata": {
    "slideshow": {
     "slide_type": "fragment"
    }
   },
   "source": [
    "A **behavior** is an action that is defined within a class. These are made up of **methods**, which are just functions that are defined for the class."
   ]
  },
  {
   "cell_type": "markdown",
   "metadata": {
    "slideshow": {
     "slide_type": "fragment"
    }
   },
   "source": [
    "An **object** is a particular instance of a class. An object has a certain set of values for all of the attributes (variables) in the class. You can have as many objects as you want for any one class."
   ]
  },
  {
   "cell_type": "markdown",
   "metadata": {
    "slideshow": {
     "slide_type": "skip"
    }
   },
   "source": [
    "[top](#top)"
   ]
  },
  {
   "cell_type": "markdown",
   "metadata": {
    "slideshow": {
     "slide_type": "slide"
    }
   },
   "source": [
    "<a name=\"what\"></a>What are classes?\n",
    "===\n",
    "Classes are a way of combining information and behavior. For example, let's create a Person class, where the person has properties such as first name, last name, and job. \n",
    "\n",
    "Here is a simple person class in Python:"
   ]
  },
  {
   "cell_type": "code",
   "execution_count": null,
   "metadata": {
    "slideshow": {
     "slide_type": "fragment"
    }
   },
   "outputs": [],
   "source": [
    "class Person:\n",
    "    # A Person class\n",
    "    \n",
    "    def __init__(self):\n",
    "        # Each person has a first and last name and a job.\n",
    "        self.first = None\n",
    "        self.last = None\n",
    "        self.job = None"
   ]
  },
  {
   "cell_type": "markdown",
   "metadata": {
    "slideshow": {
     "slide_type": "subslide"
    }
   },
   "source": [
    "One of the first things you do with a class is to define the **\\__init\\__()** method. The \\_\\_init\\_\\_() method is the class *constructor*: it sets the values for any parameters that need to be defined when an object is first created. The *self* is the first parameter in every class instance method.  Basically, *self* is a keyword that references *this* instance of the class and allows you to access a variable from anywhere else in the class. In Java and C++, the *this* keyword is equivalent to *self*.\n",
    "\n",
    "The Person class stores three *properties*, or pieces of information, but it can't do anything. We'll now define a *method*, or behavior, for the Person: say hey."
   ]
  },
  {
   "cell_type": "code",
   "execution_count": null,
   "metadata": {
    "slideshow": {
     "slide_type": "fragment"
    }
   },
   "outputs": [],
   "source": [
    "class Person(object):\n",
    "    # A Person class\n",
    "    \n",
    "    def __init__(self):\n",
    "        # Each person has a first and last name and a job.\n",
    "        self.first = None\n",
    "        self.last = None\n",
    "        self.job = None\n",
    "        \n",
    "    def say_hey(self):\n",
    "        # Says hello\n",
    "        print(\"Hello, my name is \" + self.first +' '+ self.last)"
   ]
  },
  {
   "cell_type": "markdown",
   "metadata": {
    "slideshow": {
     "slide_type": "subslide"
    }
   },
   "source": [
    "The Person class now stores some information and contains a behavior. But this code is just a person blueprint. We haven't created a person yet. Here is how you actually make a person object:"
   ]
  },
  {
   "cell_type": "code",
   "execution_count": 16,
   "metadata": {
    "slideshow": {
     "slide_type": "fragment"
    }
   },
   "outputs": [
    {
     "name": "stdout",
     "output_type": "stream",
     "text": [
      "<__main__.Person object at 0x0000000004959CF8>\n"
     ]
    }
   ],
   "source": [
    "class Person(object):\n",
    "    # A Person class\n",
    "    \n",
    "    def __init__(self):\n",
    "        # Each person has a first and last name and a job.\n",
    "        self.first = None\n",
    "        self.last = None\n",
    "        self.job = None\n",
    "        \n",
    "    def say_hey(self):\n",
    "        # Says hello\n",
    "        print(\"Hello, my name is \" + self.first +' '+ self.last)\n",
    "\n",
    "# Create a Person object.\n",
    "my_person = Person()\n",
    "print(my_person)"
   ]
  },
  {
   "cell_type": "markdown",
   "metadata": {
    "slideshow": {
     "slide_type": "subslide"
    }
   },
   "source": [
    "To actually use a class, you create a variable such as *my\\_person*, then you set that equal to the name of the class, with an empty set of parentheses. Python creates an **object** from the class. An object is a single instance of the class. It has a copy of each of the class's variables, and it can do any method that is defined for the class. The instance is occupying a unique location in memory (here in main)."
   ]
  },
  {
   "cell_type": "markdown",
   "metadata": {
    "slideshow": {
     "slide_type": "subslide"
    }
   },
   "source": [
    "Once you have a class, you can define an object and its properties and use its methods. Here, we'll define a Person and give it some names. To access an object's properties or methods, you give the name of the object and then use *dot notation* to access the properties and methods. So to get the first name of *my\\_person*, you use *my\\_person.first*. To use my_person's say_hey() method, you write *my\\_person.say\\_hey()*."
   ]
  },
  {
   "cell_type": "code",
   "execution_count": 39,
   "metadata": {
    "slideshow": {
     "slide_type": "fragment"
    }
   },
   "outputs": [
    {
     "name": "stdout",
     "output_type": "stream",
     "text": [
      "None\n",
      "None\n",
      "Hello, my name is None None.\n",
      "Hello, my name is Danny Devito.\n",
      "<class '__main__.Person'>\n"
     ]
    }
   ],
   "source": [
    "class Person(object):\n",
    "    # A Person class\n",
    "    \n",
    "    def __init__(self):\n",
    "        # Each person has a first and last name and a job.\n",
    "        self.first = None\n",
    "        self.last = None\n",
    "        self.job = None\n",
    "        \n",
    "    def say_hey(self):\n",
    "        # Says hello\n",
    "        print('Hello, my name is {} {}.'.format(self.first, self.last))\n",
    "\n",
    "\n",
    "# Create a Person object.\n",
    "my_person = Person()\n",
    "print(my_person.first)  # No name yet\n",
    "print(my_person.last)   # No name yet\n",
    "my_person.say_hey()\n",
    "\n",
    "# Let's assign him a name\n",
    "my_person.first = \"Danny\"\n",
    "my_person.last = \"Devito\"\n",
    "\n",
    "# Make him say hey\n",
    "my_person.say_hey()"
   ]
  },
  {
   "cell_type": "markdown",
   "metadata": {
    "slideshow": {
     "slide_type": "fragment"
    }
   },
   "source": [
    "Once you have a class defined, you can create as many objects from that class as you want. Each object is its own instance of that class, with its own separate variables. All of the objects are capable of the same behavior, but each object's particular actions do not affect any of the other objects. Let's create some more people:"
   ]
  },
  {
   "cell_type": "code",
   "execution_count": 21,
   "metadata": {
    "slideshow": {
     "slide_type": "fragment"
    }
   },
   "outputs": [
    {
     "name": "stdout",
     "output_type": "stream",
     "text": [
      "Hello! My name is Danny Devito\n",
      "Hello! My name is Nicholas Cage\n",
      "<__main__.Person object at 0x0000000002C963C8>\n",
      "<__main__.Person object at 0x0000000004959C88>\n"
     ]
    }
   ],
   "source": [
    "class Person(object):\n",
    "    # A Person class\n",
    "    \n",
    "    def __init__(self):\n",
    "        # Each person has a first and last name and a job.\n",
    "        self.first = None\n",
    "        self.last = None\n",
    "        self.job = None\n",
    "        \n",
    "    def say_hey(self):\n",
    "        # I updated say_hey() to include the Person's full name\n",
    "        print('Hello! My name is {} {}'.format(self.first, self.last))\n",
    "\n",
    "# Create a Person named Danny Devito.\n",
    "danny_devito = Person()\n",
    "danny_devito.first = 'Danny'\n",
    "danny_devito.last = 'Devito'\n",
    "\n",
    "# Create a Nick Cage person.\n",
    "nick_cage = Person()\n",
    "nick_cage.first = 'Nicholas'\n",
    "nick_cage.last = 'Cage'\n",
    "\n",
    "# Make them say hey\n",
    "danny_devito.say_hey()\n",
    "nick_cage.say_hey()\n",
    "\n",
    "# Show that each person is a separate object.\n",
    "print(danny_devito)\n",
    "print(nick_cage)"
   ]
  },
  {
   "cell_type": "markdown",
   "metadata": {
    "slideshow": {
     "slide_type": "subslide"
    }
   },
   "source": [
    "You can see that each person is stored in a separate place in memory, and calling say_hey() only gives each instance of a person's particular name (i.e. Nicholas Cage won't say, \"Hello! My name is Danny Devito\", and Danny Devito won't say his name is Nick Cage."
   ]
  },
  {
   "cell_type": "markdown",
   "metadata": {
    "slideshow": {
     "slide_type": "skip"
    }
   },
   "source": [
    "[top](#top)"
   ]
  },
  {
   "cell_type": "markdown",
   "metadata": {
    "slideshow": {
     "slide_type": "slide"
    }
   },
   "source": [
    "<a name='refining_person'></a>Refining the Person class\n",
    "===\n",
    "The Person class so far is very simple. Note how we manually define each instance's properties. It's simple enough for two people, but say we have to create 100 person objects. The process of giving each one a name becomes very tedious. Let's refine the \\_\\_init\\_\\_() method to make creating, naming, and giving a job to a person all-in-one process."
   ]
  },
  {
   "cell_type": "markdown",
   "metadata": {
    "slideshow": {
     "slide_type": "subslide"
    }
   },
   "source": [
    "<a name='init_parameters'></a>Accepting parameters for the \\_\\_init\\_\\_() method\n",
    "---\n",
    "The \\_\\_init\\_\\_() method is run automatically one time when you create a new object from a class. The \\_\\_init\\_\\_() method for the Person class so far is pretty simple:"
   ]
  },
  {
   "cell_type": "code",
   "execution_count": null,
   "metadata": {
    "slideshow": {
     "slide_type": "fragment"
    }
   },
   "outputs": [],
   "source": [
    "class Person(object):\n",
    "    # A Person class\n",
    "    \n",
    "    def __init__(self):\n",
    "        # Each person has a first and last name and a job.\n",
    "        self.first = None\n",
    "        self.last = None\n",
    "        self.job = None"
   ]
  },
  {
   "cell_type": "markdown",
   "metadata": {
    "slideshow": {
     "slide_type": "subslide"
    }
   },
   "source": [
    "All the \\_\\_init\\_\\_() method does so far is set the values for the person's name and job to *None*. We can easily add a couple keyword arguments so that new person objects can be initialized with a first and last name and job:"
   ]
  },
  {
   "cell_type": "code",
   "execution_count": 30,
   "metadata": {
    "slideshow": {
     "slide_type": "fragment"
    }
   },
   "outputs": [],
   "source": [
    "class Person():\n",
    "    # A Person class\n",
    "    \n",
    "    def __init__(self, first=None, last=None, job=None):\n",
    "        # Each person has a first and last name and a job.\n",
    "        self.first = first\n",
    "        self.last = last\n",
    "        self.job = job"
   ]
  },
  {
   "cell_type": "markdown",
   "metadata": {
    "slideshow": {
     "slide_type": "subslide"
    }
   },
   "source": [
    "Now when you create a new person object you have the choice of passing in arbitrary initial values for first, last, and job. Creating Danny Devito, Nick Cage, and some other friends is a single-line breeze:"
   ]
  },
  {
   "cell_type": "code",
   "execution_count": 32,
   "metadata": {
    "slideshow": {
     "slide_type": "fragment"
    }
   },
   "outputs": [
    {
     "name": "stdout",
     "output_type": "stream",
     "text": [
      "Hello! My name is Danny Devito. I am a Penguin Man.\n",
      "Hello! My name is Nicholas Cage. I am a Professional Screamer.\n",
      "Hello! My name is Gorgonzola Joe. I am a Cheese Baron.\n",
      "Hello! My name is Doug McDog. I am a Dog Whisperer.\n",
      "Hello! My name is Ted Danzig. I am a Tiny Dancing Man.\n"
     ]
    }
   ],
   "source": [
    "class Person():\n",
    "    # A Person class\n",
    "    \n",
    "    def __init__(self, first=None, last=None, job=None):\n",
    "        # Each person has a first and last name and a job.\n",
    "        self.first = first\n",
    "        self.last = last\n",
    "        self.job = job\n",
    "        \n",
    "        \n",
    "    def say_hey(self):\n",
    "        # I updated say_hey() to include the Person's full name and job\n",
    "        print('Hello! My name is {} {}. I am a {}.'.format(self.first, self.last, self.job))\n",
    "\n",
    "    \n",
    "# Create a Person named Danny Devito with the job of Penguin Man.\n",
    "danny_devito = Person('Danny', 'Devito', 'Penguin Man')   \n",
    "# Create a Person named Nicholas Cage with the job of Professional Screamer.\n",
    "nicholas_cage = Person('Nicholas', 'Cage', 'Professional Screamer')\n",
    "# Create some other people\n",
    "g_joe = Person('Gorgonzola', 'Joe', 'Cheese Baron')\n",
    "doug_dog = Person('Doug', 'McDog', 'Dog Whisperer')\n",
    "ted_danzig = Person('Ted', 'Danzig', 'Tiny Dancing Man')\n",
    "\n",
    "danny_devito.say_hey()\n",
    "nicholas_cage.say_hey()\n",
    "g_joe.say_hey()\n",
    "doug_dog.say_hey()\n",
    "ted_danzig.say_hey()"
   ]
  },
  {
   "cell_type": "markdown",
   "metadata": {
    "slideshow": {
     "slide_type": "skip"
    }
   },
   "source": [
    "[top](#top)"
   ]
  },
  {
   "cell_type": "markdown",
   "metadata": {
    "slideshow": {
     "slide_type": "slide"
    }
   },
   "source": [
    "<a name='inheritance'></a>Inheritance\n",
    "==="
   ]
  },
  {
   "cell_type": "markdown",
   "metadata": {
    "slideshow": {
     "slide_type": "fragment"
    }
   },
   "source": [
    "One of the most important goals of the object-oriented approach to programming is the creation of stable, reliable, reusable code. If you had to create a new class for every kind of object you wanted to model, you would hardly have any reusable code. "
   ]
  },
  {
   "cell_type": "markdown",
   "metadata": {
    "slideshow": {
     "slide_type": "fragment"
    }
   },
   "source": [
    "In Python and any other language that supports OOP, one class can **inherit** from another class. This means you can base a new class on an existing class; the new class *inherits* all of the attributes and behavior of the class it is based on. "
   ]
  },
  {
   "cell_type": "markdown",
   "metadata": {
    "slideshow": {
     "slide_type": "fragment"
    }
   },
   "source": [
    "A new class can override any undesirable attributes or behavior of the class it inherits from, and it can add any new attributes or behavior that are appropriate. The original class is called the **parent** class, and the new class is a **child** of the parent class. The parent class is also called a **superclass**, and the child class is also called a **subclass**."
   ]
  },
  {
   "cell_type": "markdown",
   "metadata": {
    "slideshow": {
     "slide_type": "subslide"
    }
   },
   "source": [
    "The child class inherits all attributes and behavior from the parent class, but any attributes that are defined in the child class are not available to the parent class. This may be obvious to many people, but it is worth stating. "
   ]
  },
  {
   "cell_type": "markdown",
   "metadata": {
    "slideshow": {
     "slide_type": "fragment"
    }
   },
   "source": [
    "This also means a child class can override behavior of the parent class. If a child class defines a method that also appears in the parent class, objects of the child class will use the new method rather than the parent class method.\n"
   ]
  },
  {
   "cell_type": "markdown",
   "metadata": {
    "slideshow": {
     "slide_type": "fragment"
    }
   },
   "source": [
    "To better understand inheritance, let's look at an example of a class that can be based on the Person class."
   ]
  },
  {
   "cell_type": "markdown",
   "metadata": {
    "slideshow": {
     "slide_type": "subslide"
    }
   },
   "source": [
    "<a name='subclasses'></a>The Banker class\n",
    "---\n",
    "If you wanted to model a Banker, you could write an entirely new class. But a banker is just a special kind of person. Instead of writing an entirely new class, you can inherit all of the attributes and behavior of a Person, and then add a few appropriate attributes and behavior for a Banker."
   ]
  },
  {
   "cell_type": "markdown",
   "metadata": {
    "slideshow": {
     "slide_type": "fragment"
    }
   },
   "source": [
    "Here is what the Banker class looks like:"
   ]
  },
  {
   "cell_type": "code",
   "execution_count": 47,
   "metadata": {
    "slideshow": {
     "slide_type": "fragment"
    }
   },
   "outputs": [
    {
     "name": "stdout",
     "output_type": "stream",
     "text": [
      "<__main__.Banker object at 0x00000000043A13C8>\n",
      "<__main__.Banker object at 0x0000000004A272B0>\n",
      "False\n",
      "True\n",
      "Hello! My name is Mister Banker. I am a Banker.\n",
      "Hello! My name is maurice anonymous. I am a space cowboy.\n"
     ]
    }
   ],
   "source": [
    "class Person(object):\n",
    "    \"\"\"A person class\"\"\"\n",
    "    \n",
    "    def __init__(self, first, last, job):\n",
    "        # Each person has a first and last name and a job.\n",
    "        self.first = first\n",
    "        self.last = last\n",
    "        self.job = job\n",
    "        \n",
    "        \n",
    "    def say_hey(self):\n",
    "        # Says greeting and the Person's name followed by their job.\n",
    "        print('Hello! My name is {} {}. I am a {}.'.format(self.first, self.last, self.job))\n",
    "        \n",
    "\n",
    "class Banker(Person):  # Note that the Banker class takes in the Person class as a parameter\n",
    "    \"\"\"A banker class\"\"\"\n",
    "    \n",
    "    def __init__(self, first=None, last=None):\n",
    "        # super().__init__(first, last, Banker)\n",
    "        super(Banker, self).__init__(first, last, 'Banker')\n",
    "        \n",
    "    \n",
    "# banker.job still evaluates to Banker because the Banker constructor overrides the Person constructor\n",
    "banker = Banker('Mister', 'Banker')\n",
    "another_banker = Banker('Mister', 'Banker')\n",
    "another_banker_pointer = another_banker\n",
    "print(banker)\n",
    "print(another_banker)\n",
    "print(banker == another_banker)\n",
    "print(another_banker_pointer == another_banker)\n",
    "banker.say_hey()\n",
    "# person = Person()\n",
    "\n",
    "person = Person('maurice', 'anonymous', 'space cowboy')\n",
    "person.say_hey()"
   ]
  },
  {
   "cell_type": "markdown",
   "metadata": {
    "slideshow": {
     "slide_type": "subslide"
    }
   },
   "source": [
    "When a new class is based on an existing class, you write the name of the parent class in parentheses when you define the new class:\n",
    "\n",
    "    "
   ]
  },
  {
   "cell_type": "code",
   "execution_count": null,
   "metadata": {
    "slideshow": {
     "slide_type": "fragment"
    }
   },
   "outputs": [],
   "source": [
    "class NewClass(ParentClass):"
   ]
  },
  {
   "cell_type": "markdown",
   "metadata": {
    "slideshow": {
     "slide_type": "subslide"
    }
   },
   "source": [
    "The \\_\\_init\\_\\_() function of the new class needs to call the \\_\\_init\\_\\_() function of the parent class. The \\_\\_init\\_\\_() function of the new class needs to accept all of the parameters required to build an object from the parent class, and these parameters need to be passed to the \\_\\_init\\_\\_() function of the parent class. The *super().\\_\\_init\\_\\_()* function takes care of this:"
   ]
  },
  {
   "cell_type": "code",
   "execution_count": null,
   "metadata": {
    "slideshow": {
     "slide_type": "fragment"
    }
   },
   "outputs": [],
   "source": [
    "class NewClass(ParentClass):\n",
    "    \n",
    "    def __init__(self, arguments_new_class, arguments_parent_class):\n",
    "        super().__init__(arguments_parent_class)\n",
    "        # Code for initializing an object of the new class."
   ]
  },
  {
   "cell_type": "markdown",
   "metadata": {
    "slideshow": {
     "slide_type": "subslide"
    }
   },
   "source": [
    "The *super()* function passes the *self* argument to the parent class automatically."
   ]
  },
  {
   "cell_type": "markdown",
   "metadata": {
    "slideshow": {
     "slide_type": "subslide"
    }
   },
   "source": [
    "We can see that the Banker inherits its parent class' methods. The banker can say_hey() and *banker.job* always evaluates to *Banker* because of how we defined the Banker class' job in the Banker constructor."
   ]
  },
  {
   "cell_type": "markdown",
   "metadata": {
    "slideshow": {
     "slide_type": "subslide"
    }
   },
   "source": [
    "We can give the Banker class its own special set of behaviors, such as *handle_money()* and *call_police*."
   ]
  },
  {
   "cell_type": "code",
   "execution_count": 38,
   "metadata": {
    "slideshow": {
     "slide_type": "fragment"
    }
   },
   "outputs": [
    {
     "name": "stdout",
     "output_type": "stream",
     "text": [
      "Hello! My name is Mister Banker. I am a Banker.\n",
      "Here's your money!\n",
      "911, I'm being robbed!\n",
      "Hello! My name is Regular Person. I am a not a banker.\n"
     ]
    },
    {
     "ename": "AttributeError",
     "evalue": "'Person' object has no attribute 'call_police'",
     "output_type": "error",
     "traceback": [
      "\u001b[1;31m---------------------------------------------------------------------------\u001b[0m",
      "\u001b[1;31mAttributeError\u001b[0m                            Traceback (most recent call last)",
      "\u001b[1;32m<ipython-input-38-c9cccad418b9>\u001b[0m in \u001b[0;36m<module>\u001b[1;34m()\u001b[0m\n\u001b[0;32m     38\u001b[0m \u001b[0mperson\u001b[0m\u001b[1;33m.\u001b[0m\u001b[0msay_hey\u001b[0m\u001b[1;33m(\u001b[0m\u001b[1;33m)\u001b[0m\u001b[1;33m\u001b[0m\u001b[0m\n\u001b[0;32m     39\u001b[0m \u001b[1;31m# person.handle_money()  # Causes an AttributeError: 'Person' object has no attribute 'handle_money'\u001b[0m\u001b[1;33m\u001b[0m\u001b[1;33m\u001b[0m\u001b[0m\n\u001b[1;32m---> 40\u001b[1;33m \u001b[0mperson\u001b[0m\u001b[1;33m.\u001b[0m\u001b[0mcall_police\u001b[0m\u001b[1;33m(\u001b[0m\u001b[1;33m)\u001b[0m   \u001b[1;31m# Causes an AttributeError: 'Person' object has no attribute 'call_police'\u001b[0m\u001b[1;33m\u001b[0m\u001b[0m\n\u001b[0m",
      "\u001b[1;31mAttributeError\u001b[0m: 'Person' object has no attribute 'call_police'"
     ]
    }
   ],
   "source": [
    "class Person(object):\n",
    "    \"\"\"A person class\"\"\"\n",
    "    \n",
    "    def __init__(self, first=None, last=None, job=None):\n",
    "        # Each person has a first and last name and a job.\n",
    "        self.first = first\n",
    "        self.last = last\n",
    "        self.job = job\n",
    "        \n",
    "        \n",
    "    def say_hey(self):\n",
    "        # Says greeting and the Person's name followed by their job.\n",
    "        print('Hello! My name is {} {}. I am a {}.'.format(self.first, self.last, self.job))\n",
    "        \n",
    "\n",
    "class Banker(Person):  # Note that the Banker class takes in the Person class as a parameter\n",
    "    \"\"\"A banker class\"\"\"\n",
    "    \n",
    "    def __init__(self, first=None, last=None, job=None):\n",
    "        super(Banker, self).__init__(first, last, job)\n",
    "        self.job = 'Banker'\n",
    "        \n",
    "    def handle_money(self):\n",
    "        print(\"Here's your money!\")\n",
    "        \n",
    "    def call_police(self):\n",
    "        print(\"911, I'm being robbed!\")\n",
    "        \n",
    "        \n",
    "# banker.job still evaluates to Banker because the Banker constructor overrides the Person constructor\n",
    "banker = Banker('Mister', 'Banker', 'not a banker') \n",
    "banker.say_hey()\n",
    "banker.handle_money()\n",
    "banker.call_police()\n",
    "\n",
    "# Note that a regular Person instance cannot use the Banker methods\n",
    "person = Person('Regular', 'Person', 'not a banker')\n",
    "person.say_hey()\n",
    "# person.handle_money()  # Causes an AttributeError: 'Person' object has no attribute 'handle_money'\n",
    "# person.call_police()   # Causes an AttributeError: 'Person' object has no attribute 'call_police'"
   ]
  },
  {
   "cell_type": "markdown",
   "metadata": {
    "slideshow": {
     "slide_type": "skip"
    }
   },
   "source": [
    "[top](#top)"
   ]
  }
 ],
 "metadata": {
  "kernelspec": {
   "display_name": "Python 2",
   "language": "python",
   "name": "python2"
  },
  "language_info": {
   "codemirror_mode": {
    "name": "ipython",
    "version": 2
   },
   "file_extension": ".py",
   "mimetype": "text/x-python",
   "name": "python",
   "nbconvert_exporter": "python",
   "pygments_lexer": "ipython2",
   "version": "2.7.13"
  }
 },
 "nbformat": 4,
 "nbformat_minor": 1
}

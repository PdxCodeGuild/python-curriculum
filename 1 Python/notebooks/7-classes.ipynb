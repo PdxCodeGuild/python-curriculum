{
 "cells": [
  {
   "cell_type": "markdown",
   "metadata": {},
   "source": [
    "# 6: Classes\n",
    "---"
   ]
  },
  {
   "cell_type": "code",
   "execution_count": 1,
   "metadata": {},
   "outputs": [
    {
     "name": "stdout",
     "output_type": "stream",
     "text": [
      "<class 'int'>\n",
      "<class 'str'>\n"
     ]
    }
   ],
   "source": [
    "# every variable in python has a type, and an initializer\n",
    "x = 5\n",
    "print(type(x)) #'int'\n",
    "y = 'hello'\n",
    "print(type(y)) #'str\n",
    "\n",
    "s = str() # call the initializer of the str class, rather than s = ''\n",
    "v = int() # call the initializer of the int class"
   ]
  },
  {
   "cell_type": "code",
   "execution_count": 2,
   "metadata": {
    "scrolled": true
   },
   "outputs": [
    {
     "name": "stdout",
     "output_type": "stream",
     "text": [
      "5\n",
      "2\n",
      "<class '__main__.Point'>\n"
     ]
    }
   ],
   "source": [
    "# we can define our own custom types using classes\n",
    "\n",
    "class Point:\n",
    "    def __init__(self, x, y): # this is the initializer\n",
    "        self.x = x # these are member variables\n",
    "        self.y = y\n",
    "    \n",
    "p = Point(5,2) # call the initializer of the Point class\n",
    "print(p.x) # 5\n",
    "print(p.y) # 2\n",
    "\n",
    "print(type(p)) # Point"
   ]
  },
  {
   "cell_type": "code",
   "execution_count": 3,
   "metadata": {},
   "outputs": [
    {
     "name": "stdout",
     "output_type": "stream",
     "text": [
      "3.605551275463989\n"
     ]
    }
   ],
   "source": [
    "import math\n",
    "\n",
    "# we could instead use dictionaries instead of classes\n",
    "#p1 = {'x': 5, 'y': 2}\n",
    "#p1['x']\n",
    "\n",
    "# or just use lists, and write functions to perform operations on those lists\n",
    "def distance(p1, p2):\n",
    "    dx = p1[0] - p2[0]\n",
    "    dy = p1[1] - p2[1]\n",
    "    return math.sqrt(dx*dx + dy*dy)\n",
    "\n",
    "p1 = [5, 2]\n",
    "p2 = [8, 4]\n",
    "print(distance(p1, p2))\n",
    "\n",
    "\n"
   ]
  },
  {
   "cell_type": "code",
   "execution_count": 4,
   "metadata": {},
   "outputs": [
    {
     "name": "stdout",
     "output_type": "stream",
     "text": [
      "3.605551275463989\n"
     ]
    },
    {
     "data": {
      "text/plain": [
       "['hello', 'world']"
      ]
     },
     "execution_count": 4,
     "metadata": {},
     "output_type": "execute_result"
    }
   ],
   "source": [
    "# however, classes also let us write 'member functions' or 'methods'\n",
    "import math\n",
    "\n",
    "class Point:\n",
    "    def __init__(self, x=0, y=0):\n",
    "        self.x = x\n",
    "        self.y = y\n",
    "    \n",
    "    def distance(self, p): # method, or 'member function'\n",
    "        dx = self.x - p.x\n",
    "        dy = self.y - p.y\n",
    "        return math.sqrt(dx*dx + dy*dy)\n",
    "\n",
    "p3 = Point()\n",
    "p1 = Point(5,2)\n",
    "p2 = Point(8,4)\n",
    "dist = p1.distance(p2) # or p2.distance(p1), either works\n",
    "print(dist)\n",
    "\n",
    "# similarly to how we can call methods of the str class\n",
    "s = 'hello world'\n",
    "s.split(' ')"
   ]
  },
  {
   "cell_type": "code",
   "execution_count": 5,
   "metadata": {},
   "outputs": [
    {
     "name": "stdout",
     "output_type": "stream",
     "text": [
      "2\n",
      "[8.660254037844387,4.999999999999999]\n"
     ]
    }
   ],
   "source": [
    "# this allows us to group data and functions together\n",
    "import math\n",
    "\n",
    "class Point:\n",
    "    def __init__(self, x, y):\n",
    "        self.x = x\n",
    "        self.y = y\n",
    "    \n",
    "    def distance(self, p):\n",
    "        dx = self.x - p.x\n",
    "        dy = self.y - p.y\n",
    "        return math.sqrt(dx*dx + dy*dy)\n",
    "    \n",
    "    def scale(self, v):\n",
    "        self.x *= v\n",
    "        self.y *= v\n",
    "    \n",
    "    @staticmethod\n",
    "    def from_polar(r, theta): # static methods belong to the type, not the instance\n",
    "        px = r * math.cos(theta)\n",
    "        py = r * math.sin(theta)\n",
    "        return Point(px, py)\n",
    "    \n",
    "    def __str__(self): # specify a str conversion\n",
    "        return '['+str(self.x)+','+str(self.y)+']'\n",
    "    \n",
    "    def __len__(self):\n",
    "        return 2\n",
    "\n",
    "\n",
    "    \n",
    "polar_point = Point.from_polar(5.0, math.pi/6)\n",
    "polar_point.scale(2)\n",
    "print(len(polar_point))\n",
    "print(polar_point)"
   ]
  },
  {
   "cell_type": "code",
   "execution_count": 6,
   "metadata": {},
   "outputs": [
    {
     "name": "stdout",
     "output_type": "stream",
     "text": [
      "my name is Fido, my age is 3\n",
      "my name is Fido, my age is 4\n"
     ]
    }
   ],
   "source": [
    "# this is another example of a class\n",
    "class Dog:\n",
    "    def __init__(self, name, age):\n",
    "        self.name = name\n",
    "        self.age = age\n",
    "    \n",
    "    def speak(self):\n",
    "        print('my name is '+self.name+', my age is ' + str(self.age))\n",
    "        \n",
    "dog1 = Dog('Fido', 3)\n",
    "dog1.speak()\n",
    "\n",
    "dog1.age = 4\n",
    "dog1.speak()"
   ]
  },
  {
   "cell_type": "code",
   "execution_count": 7,
   "metadata": {},
   "outputs": [
    {
     "name": "stdout",
     "output_type": "stream",
     "text": [
      "6.324555320336759\n"
     ]
    },
    {
     "ename": "AttributeError",
     "evalue": "'PointPriv' object has no attribute '__x'",
     "output_type": "error",
     "traceback": [
      "\u001b[1;31m---------------------------------------------------------------------\u001b[0m",
      "\u001b[1;31mAttributeError\u001b[0m                      Traceback (most recent call last)",
      "\u001b[1;32m<ipython-input-7-0ac71086dd1e>\u001b[0m in \u001b[0;36m<module>\u001b[1;34m()\u001b[0m\n\u001b[0;32m     15\u001b[0m \u001b[0mp2\u001b[0m \u001b[1;33m=\u001b[0m \u001b[0mPointPriv\u001b[0m\u001b[1;33m(\u001b[0m\u001b[1;36m7\u001b[0m\u001b[1;33m,\u001b[0m\u001b[1;36m8\u001b[0m\u001b[1;33m)\u001b[0m\u001b[1;33m\u001b[0m\u001b[0m\n\u001b[0;32m     16\u001b[0m \u001b[0mprint\u001b[0m\u001b[1;33m(\u001b[0m\u001b[0mp1\u001b[0m\u001b[1;33m.\u001b[0m\u001b[0mdistance\u001b[0m\u001b[1;33m(\u001b[0m\u001b[0mp2\u001b[0m\u001b[1;33m)\u001b[0m\u001b[1;33m)\u001b[0m\u001b[1;33m\u001b[0m\u001b[0m\n\u001b[1;32m---> 17\u001b[1;33m \u001b[0mprint\u001b[0m\u001b[1;33m(\u001b[0m\u001b[0mp1\u001b[0m\u001b[1;33m.\u001b[0m\u001b[0m__x\u001b[0m\u001b[1;33m)\u001b[0m\u001b[1;33m\u001b[0m\u001b[0m\n\u001b[0m",
      "\u001b[1;31mAttributeError\u001b[0m: 'PointPriv' object has no attribute '__x'"
     ]
    }
   ],
   "source": [
    "# we can also specify private variables\n",
    "import math\n",
    "\n",
    "class PointPriv:\n",
    "    def __init__(self, x, y):\n",
    "        self.__x = x\n",
    "        self.__y = y\n",
    "    \n",
    "    def distance(self, p):\n",
    "        dx = self.__x - p.__x\n",
    "        dy = self.__y - p.__y\n",
    "        return math.sqrt(dx*dx + dy*dy)\n",
    "\n",
    "p1 = PointPriv(5,2)\n",
    "p2 = PointPriv(7,8)\n",
    "print(p1.distance(p2))\n",
    "print(p1.__x)\n"
   ]
  },
  {
   "cell_type": "code",
   "execution_count": 8,
   "metadata": {},
   "outputs": [
    {
     "name": "stdout",
     "output_type": "stream",
     "text": [
      "{'_PointPriv__x': 5, '_PointPriv__y': 2}\n"
     ]
    },
    {
     "data": {
      "text/plain": [
       "5"
      ]
     },
     "execution_count": 8,
     "metadata": {},
     "output_type": "execute_result"
    }
   ],
   "source": [
    "print(p1.__dict__)\n",
    "p1._PointPriv__x   # DONT DO THIS"
   ]
  },
  {
   "cell_type": "code",
   "execution_count": null,
   "metadata": {
    "collapsed": true
   },
   "outputs": [],
   "source": []
  }
 ],
 "metadata": {
  "kernelspec": {
   "display_name": "Python 3",
   "language": "python",
   "name": "python3"
  },
  "language_info": {
   "codemirror_mode": {
    "name": "ipython",
    "version": 3
   },
   "file_extension": ".py",
   "mimetype": "text/x-python",
   "name": "python",
   "nbconvert_exporter": "python",
   "pygments_lexer": "ipython3",
   "version": "3.6.1"
  }
 },
 "nbformat": 4,
 "nbformat_minor": 2
}